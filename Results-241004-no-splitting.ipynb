{
 "cells": [
  {
   "cell_type": "code",
   "execution_count": null,
   "metadata": {
    "vscode": {
     "languageId": "r"
    }
   },
   "outputs": [],
   "source": [
    "\n",
    "library(cubature)\n",
    "library(MASS)\n",
    "library(pracma)\n",
    "library(mvtnorm)\n",
    "\n",
    "library(LogConcDEAD)\n",
    "library(logcondens) \n",
    "library(mclust)"
   ]
  }
 ],
 "metadata": {
  "kernelspec": {
   "display_name": "R",
   "language": "R",
   "name": "ir"
  },
  "language_info": {
   "name": "R"
  },
  "orig_nbformat": 4
 },
 "nbformat": 4,
 "nbformat_minor": 2
}

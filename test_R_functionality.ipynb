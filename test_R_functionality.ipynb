{
 "cells": [
  {
   "cell_type": "code",
   "execution_count": 7,
   "id": "composed-rugby",
   "metadata": {
    "vscode": {
     "languageId": "r"
    }
   },
   "outputs": [
    {
     "name": "stderr",
     "output_type": "stream",
     "text": [
      "Warning message in install.packages(\"FNN\"):\n",
      "“installation of package ‘FNN’ had non-zero exit status”\n",
      "Updating HTML index of packages in '.Library'\n",
      "\n",
      "Making 'packages.html' ...\n",
      " done\n",
      "\n"
     ]
    }
   ],
   "source": [
    "# library(logcondens)\n",
    "# library(cubature)\n",
    "# install.packages('logcondens')\n",
    "# install.packages('FNN')"
   ]
  },
  {
   "cell_type": "code",
   "execution_count": 1,
   "id": "ddb58661",
   "metadata": {
    "vscode": {
     "languageId": "r"
    }
   },
   "outputs": [],
   "source": [
    "# library(logcondens)\n",
    "# library('FNN')\n",
    "library(MASS)"
   ]
  },
  {
   "cell_type": "code",
   "execution_count": 2,
   "id": "03a379bb",
   "metadata": {
    "vscode": {
     "languageId": "r"
    }
   },
   "outputs": [],
   "source": [
    "library(pracma)"
   ]
  },
  {
   "cell_type": "code",
   "execution_count": 6,
   "id": "e5645658",
   "metadata": {
    "vscode": {
     "languageId": "r"
    }
   },
   "outputs": [
    {
     "data": {
      "text/html": [
       "<table class=\"dataframe\">\n",
       "<caption>A matrix: 3 × 3 of type dbl</caption>\n",
       "<tbody>\n",
       "\t<tr><td>-0.4281078</td><td> 0.4025512</td><td> 0.8091206</td></tr>\n",
       "\t<tr><td>-0.3376685</td><td> 0.7592198</td><td>-0.5563860</td></tr>\n",
       "\t<tr><td>-0.8382742</td><td>-0.5114077</td><td>-0.1890991</td></tr>\n",
       "</tbody>\n",
       "</table>\n"
      ],
      "text/latex": [
       "A matrix: 3 × 3 of type dbl\n",
       "\\begin{tabular}{lll}\n",
       "\t -0.4281078 &  0.4025512 &  0.8091206\\\\\n",
       "\t -0.3376685 &  0.7592198 & -0.5563860\\\\\n",
       "\t -0.8382742 & -0.5114077 & -0.1890991\\\\\n",
       "\\end{tabular}\n"
      ],
      "text/markdown": [
       "\n",
       "A matrix: 3 × 3 of type dbl\n",
       "\n",
       "| -0.4281078 |  0.4025512 |  0.8091206 |\n",
       "| -0.3376685 |  0.7592198 | -0.5563860 |\n",
       "| -0.8382742 | -0.5114077 | -0.1890991 |\n",
       "\n"
      ],
      "text/plain": [
       "     [,1]       [,2]       [,3]      \n",
       "[1,] -0.4281078  0.4025512  0.8091206\n",
       "[2,] -0.3376685  0.7592198 -0.5563860\n",
       "[3,] -0.8382742 -0.5114077 -0.1890991"
      ]
     },
     "metadata": {},
     "output_type": "display_data"
    }
   ],
   "source": [
    "Q = randortho(3, type=\"orthonormal\")\n",
    "Q"
   ]
  },
  {
   "cell_type": "code",
   "execution_count": 7,
   "id": "443710f1",
   "metadata": {
    "vscode": {
     "languageId": "r"
    }
   },
   "outputs": [
    {
     "data": {
      "text/html": [
       "<table class=\"dataframe\">\n",
       "<caption>A matrix: 3 × 3 of type dbl</caption>\n",
       "<tbody>\n",
       "\t<tr><td>-0.4281078</td><td>-0.3376685</td><td>-0.8382742</td></tr>\n",
       "\t<tr><td> 0.4025512</td><td> 0.7592198</td><td>-0.5114077</td></tr>\n",
       "\t<tr><td> 0.8091206</td><td>-0.5563860</td><td>-0.1890991</td></tr>\n",
       "</tbody>\n",
       "</table>\n"
      ],
      "text/latex": [
       "A matrix: 3 × 3 of type dbl\n",
       "\\begin{tabular}{lll}\n",
       "\t -0.4281078 & -0.3376685 & -0.8382742\\\\\n",
       "\t  0.4025512 &  0.7592198 & -0.5114077\\\\\n",
       "\t  0.8091206 & -0.5563860 & -0.1890991\\\\\n",
       "\\end{tabular}\n"
      ],
      "text/markdown": [
       "\n",
       "A matrix: 3 × 3 of type dbl\n",
       "\n",
       "| -0.4281078 | -0.3376685 | -0.8382742 |\n",
       "|  0.4025512 |  0.7592198 | -0.5114077 |\n",
       "|  0.8091206 | -0.5563860 | -0.1890991 |\n",
       "\n"
      ],
      "text/plain": [
       "     [,1]       [,2]       [,3]      \n",
       "[1,] -0.4281078 -0.3376685 -0.8382742\n",
       "[2,]  0.4025512  0.7592198 -0.5114077\n",
       "[3,]  0.8091206 -0.5563860 -0.1890991"
      ]
     },
     "metadata": {},
     "output_type": "display_data"
    }
   ],
   "source": [
    "t(Q)"
   ]
  },
  {
   "cell_type": "code",
   "execution_count": 22,
   "id": "c9a6abc1",
   "metadata": {
    "vscode": {
     "languageId": "r"
    }
   },
   "outputs": [
    {
     "name": "stdout",
     "output_type": "stream",
     "text": [
      "              [,1]          [,2]         [,3]\n",
      "[1,]  1.000000e+00 -1.024332e-17 7.915263e-19\n",
      "[2,] -1.024332e-17  1.000000e+00 5.567992e-18\n",
      "[3,]  7.915263e-19  5.567992e-18 1.000000e+00\n"
     ]
    }
   ],
   "source": [
    "print(Q %*% t(Q))"
   ]
  },
  {
   "cell_type": "code",
   "execution_count": 16,
   "id": "22638ab6",
   "metadata": {
    "vscode": {
     "languageId": "r"
    }
   },
   "outputs": [
    {
     "data": {
      "text/html": [
       "0.0614624758189893"
      ],
      "text/latex": [
       "0.0614624758189893"
      ],
      "text/markdown": [
       "0.0614624758189893"
      ],
      "text/plain": [
       "[1] 0.06146248"
      ]
     },
     "metadata": {},
     "output_type": "display_data"
    }
   ],
   "source": [
    "prod(diag(Q))"
   ]
  },
  {
   "cell_type": "code",
   "execution_count": 13,
   "id": "ac76bd3b",
   "metadata": {
    "vscode": {
     "languageId": "r"
    }
   },
   "outputs": [
    {
     "name": "stdout",
     "output_type": "stream",
     "text": [
      "              [,1]\n",
      "[1,] -1.110223e-16\n"
     ]
    }
   ],
   "source": [
    "print(Q[1,]%*%Q[2,])"
   ]
  },
  {
   "cell_type": "code",
   "execution_count": 14,
   "id": "6ff680d6",
   "metadata": {
    "vscode": {
     "languageId": "r"
    }
   },
   "outputs": [
    {
     "name": "stdout",
     "output_type": "stream",
     "text": [
      "     [,1] [,2] [,3]\n",
      "[1,]    0    0    0\n",
      "[2,]    0    0    0\n",
      "[3,]    0    0    0\n",
      "     [,1] [,2] [,3]\n",
      "[1,]    4    0    0\n",
      "[2,]    0    5    0\n",
      "[3,]    0    0    6\n"
     ]
    }
   ],
   "source": [
    "d <- 3\n",
    "M = matrix(0, ncol = d, nrow = d)\n",
    "print(M)\n",
    "diag(M) <- c(4,5,6)\n",
    "print(M)"
   ]
  },
  {
   "cell_type": "code",
   "execution_count": 17,
   "id": "a32397cc",
   "metadata": {
    "vscode": {
     "languageId": "r"
    }
   },
   "outputs": [
    {
     "data": {
      "text/html": [
       "<style>\n",
       ".list-inline {list-style: none; margin:0; padding: 0}\n",
       ".list-inline>li {display: inline-block}\n",
       ".list-inline>li:not(:last-child)::after {content: \"\\00b7\"; padding: 0 .5ex}\n",
       "</style>\n",
       "<ol class=list-inline><li>1.1</li><li>2.2</li><li>3.3</li><li>4.4</li><li>5.5</li></ol>\n"
      ],
      "text/latex": [
       "\\begin{enumerate*}\n",
       "\\item 1.1\n",
       "\\item 2.2\n",
       "\\item 3.3\n",
       "\\item 4.4\n",
       "\\item 5.5\n",
       "\\end{enumerate*}\n"
      ],
      "text/markdown": [
       "1. 1.1\n",
       "2. 2.2\n",
       "3. 3.3\n",
       "4. 4.4\n",
       "5. 5.5\n",
       "\n",
       "\n"
      ],
      "text/plain": [
       "[1] 1.1 2.2 3.3 4.4 5.5"
      ]
     },
     "metadata": {},
     "output_type": "display_data"
    }
   ],
   "source": [
    "1.1*c(1:5)"
   ]
  },
  {
   "cell_type": "code",
   "execution_count": 19,
   "id": "80ca75de",
   "metadata": {
    "vscode": {
     "languageId": "r"
    }
   },
   "outputs": [
    {
     "name": "stdout",
     "output_type": "stream",
     "text": [
      "[1] \"Check\"\n",
      "     [,1] [,2] [,3]\n",
      "[1,]    4    0    0\n",
      "[2,]    0    5    0\n",
      "[3,]    0    0    6\n"
     ]
    }
   ],
   "source": [
    "print(\"Check\")\n",
    "print(M)"
   ]
  },
  {
   "cell_type": "code",
   "execution_count": 17,
   "id": "785d94bf",
   "metadata": {
    "vscode": {
     "languageId": "r"
    }
   },
   "outputs": [
    {
     "data": {
      "text/html": [
       "6"
      ],
      "text/latex": [
       "6"
      ],
      "text/markdown": [
       "6"
      ],
      "text/plain": [
       "[1] 6"
      ]
     },
     "metadata": {},
     "output_type": "display_data"
    }
   ],
   "source": [
    "prod(c(1,2,3))"
   ]
  },
  {
   "cell_type": "code",
   "execution_count": 19,
   "id": "3daea5ec",
   "metadata": {
    "vscode": {
     "languageId": "r"
    }
   },
   "outputs": [
    {
     "data": {
      "text/html": [
       "<table class=\"dataframe\">\n",
       "<caption>A matrix: 3 × 3 of type dbl</caption>\n",
       "<tbody>\n",
       "\t<tr><td>-0.4281078</td><td> 0.4025512</td><td> 0.8091206</td></tr>\n",
       "\t<tr><td>-0.3376685</td><td> 0.7592198</td><td>-0.5563860</td></tr>\n",
       "\t<tr><td>-0.8382742</td><td>-0.5114077</td><td>-0.1890991</td></tr>\n",
       "</tbody>\n",
       "</table>\n"
      ],
      "text/latex": [
       "A matrix: 3 × 3 of type dbl\n",
       "\\begin{tabular}{lll}\n",
       "\t -0.4281078 &  0.4025512 &  0.8091206\\\\\n",
       "\t -0.3376685 &  0.7592198 & -0.5563860\\\\\n",
       "\t -0.8382742 & -0.5114077 & -0.1890991\\\\\n",
       "\\end{tabular}\n"
      ],
      "text/markdown": [
       "\n",
       "A matrix: 3 × 3 of type dbl\n",
       "\n",
       "| -0.4281078 |  0.4025512 |  0.8091206 |\n",
       "| -0.3376685 |  0.7592198 | -0.5563860 |\n",
       "| -0.8382742 | -0.5114077 | -0.1890991 |\n",
       "\n"
      ],
      "text/plain": [
       "     [,1]       [,2]       [,3]      \n",
       "[1,] -0.4281078  0.4025512  0.8091206\n",
       "[2,] -0.3376685  0.7592198 -0.5563860\n",
       "[3,] -0.8382742 -0.5114077 -0.1890991"
      ]
     },
     "metadata": {},
     "output_type": "display_data"
    }
   ],
   "source": [
    "Q"
   ]
  },
  {
   "cell_type": "code",
   "execution_count": 18,
   "id": "1f16b80c",
   "metadata": {
    "vscode": {
     "languageId": "r"
    }
   },
   "outputs": [
    {
     "data": {
      "text/html": [
       "<table class=\"dataframe\">\n",
       "<caption>A matrix: 3 × 3 of type dbl</caption>\n",
       "<tbody>\n",
       "\t<tr><td>-1.344940</td><td> 1.264652</td><td> 2.5419275</td></tr>\n",
       "\t<tr><td>-1.060817</td><td> 2.385159</td><td>-1.7479380</td></tr>\n",
       "\t<tr><td>-2.633516</td><td>-1.606635</td><td>-0.5940722</td></tr>\n",
       "</tbody>\n",
       "</table>\n"
      ],
      "text/latex": [
       "A matrix: 3 × 3 of type dbl\n",
       "\\begin{tabular}{lll}\n",
       "\t -1.344940 &  1.264652 &  2.5419275\\\\\n",
       "\t -1.060817 &  2.385159 & -1.7479380\\\\\n",
       "\t -2.633516 & -1.606635 & -0.5940722\\\\\n",
       "\\end{tabular}\n"
      ],
      "text/markdown": [
       "\n",
       "A matrix: 3 × 3 of type dbl\n",
       "\n",
       "| -1.344940 |  1.264652 |  2.5419275 |\n",
       "| -1.060817 |  2.385159 | -1.7479380 |\n",
       "| -2.633516 | -1.606635 | -0.5940722 |\n",
       "\n"
      ],
      "text/plain": [
       "     [,1]      [,2]      [,3]      \n",
       "[1,] -1.344940  1.264652  2.5419275\n",
       "[2,] -1.060817  2.385159 -1.7479380\n",
       "[3,] -2.633516 -1.606635 -0.5940722"
      ]
     },
     "metadata": {},
     "output_type": "display_data"
    }
   ],
   "source": [
    "Q*pi"
   ]
  }
 ],
 "metadata": {
  "finalized": {
   "timestamp": 1698646701489,
   "trusted": false
  },
  "hide_input": false,
  "kernelspec": {
   "display_name": "R",
   "language": "R",
   "name": "ir"
  },
  "language_info": {
   "codemirror_mode": "r",
   "file_extension": ".r",
   "mimetype": "text/x-r-source",
   "name": "R",
   "pygments_lexer": "r",
   "version": "4.3.1"
  }
 },
 "nbformat": 4,
 "nbformat_minor": 5
}
